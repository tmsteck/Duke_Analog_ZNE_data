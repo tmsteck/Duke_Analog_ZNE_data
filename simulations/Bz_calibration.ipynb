{
 "cells": [
  {
   "cell_type": "code",
   "execution_count": 1,
   "metadata": {},
   "outputs": [
    {
     "name": "stderr",
     "output_type": "stream",
     "text": [
      "OMP: Info #276: omp_set_nested routine deprecated, please use omp_set_max_active_levels instead.\n"
     ]
    },
    {
     "name": "stdout",
     "output_type": "stream",
     "text": [
      "/Users/thomassteckmann/Duke_Analog_ZNE_data\n"
     ]
    }
   ],
   "source": [
    "import os\n",
    "\n",
    "#Move the directory back to Duke_Data\n",
    "#Check if the current directory is Duke_Data\n",
    "if os.getcwd().split('/')[-1] != 'DUKE_ANALOG_ZNE_DATA':\n",
    "    #os.chdir('Duke_Data')\n",
    "    os.chdir('../')\n",
    "    #print(os.getcwd().split('/')[-1])\n",
    "    #pass\n",
    "else:\n",
    "    pass\n",
    "\n",
    "import sys\n",
    "sys.path.insert(0, './scripts')\n",
    "sys.path.insert(1, './')\n",
    "#sys.path.insert(2, './util')\n",
    "\n",
    "\n",
    "from qutip import (about, basis, expect, mesolve, qeye, sigmax, sigmay, sigmaz, tensor, mcsolve, sesolve, mesolve)\n",
    "from qutip.expect import expect\n",
    "import numpy as np\n",
    "from util.samplers_util import thermal_rejection\n",
    "import matplotlib.pyplot as plt\n",
    "from util.basic_TFIM_funcs import get_s_lists\n",
    "from joblib import Parallel, delayed\n",
    "\n",
    "\n",
    "print(os.getcwd())\n",
    "from util.index import print_index, get_experiment, index_folder\n",
    "from util.functions_util import cetina_thermal_exp, cetina_envelope_exp\n",
    "from scipy.optimize import curve_fit\n",
    "import matplotlib.pyplot as plt\n",
    "from matplotlib.colors import LinearSegmentedColormap\n",
    "import matplotlib.cm as cm\n",
    "import numpy as np\n",
    "import h5py\n",
    "from util.fitting_functions_ZNE import linear_ZNE, third_no_first_ZNE\n",
    "\n"
   ]
  },
  {
   "cell_type": "code",
   "execution_count": 2,
   "metadata": {},
   "outputs": [
    {
     "name": "stdout",
     "output_type": "stream",
     "text": [
      "/Users/thomassteckmann/Duke_Analog_ZNE_data\n"
     ]
    }
   ],
   "source": [
    "print(os.getcwd())"
   ]
  },
  {
   "cell_type": "code",
   "execution_count": 3,
   "metadata": {},
   "outputs": [],
   "source": [
    "# #Simulating the Jij XX oscillations with active heating + maybe dephasing noise\n",
    "# \"\"\"How to deal with active heating of the chain?\n",
    "# Option 1: increase the random theta linearly in time. Probably the best bet. \n",
    "# Option 2: rescample ever few time steps with a higher temperature.\n",
    "\n",
    "# I think option 1 is the best for now\n",
    "# \"\"\"\n",
    "# #Need to set Jij ~1000*2*pi, so Omega = np.sqrt(1000). This way the time scale is ms for a full Jij oscillation\n",
    "# #Realistic:\n",
    "# #theta_0  = 0.060577043438396795\n",
    "# #theta_dot = 0.0502438865537055 * 1e3\n",
    "# #print(theta_0)\n",
    "# #print(theta_dot)\n",
    "# #Not realistic:\n",
    "# theta_0  = 0.055577043438396795\n",
    "# #theta_0 = 0\n",
    "# theta_dot = 0.02172438865537055 * 1e3\n",
    "# #theta_0 = 0\n",
    "# #theta_dot = 0\n",
    "# sx, sy, sz = get_s_lists(2)\n",
    "\n",
    "# t_list = np.linspace(0, 4, 200) * 1e-3\n",
    "# Omega = np.sqrt(460*2*np.pi)\n",
    "# Omega = np.sqrt(265*2*np.pi)\n",
    "# J = Omega**2\n",
    "\n",
    "\n",
    "# integration_times = np.linspace(0,10, 500)\n",
    "\n",
    "\n",
    "\n",
    "# #Jij Experiment:\n",
    "# theta_0  = 0.08\n",
    "# psi0 = tensor(basis(2,0), basis(2,1))\n",
    "# obs = [0.5*(sz[0] - sz[1])]\n",
    "# xrate = np.sqrt(0.00)\n",
    "# zrate = np.sqrt(0.0)\n",
    "\n",
    "\n",
    "\n",
    "# #Bz increasing:\n",
    "# # theta_0  = 0.055577043438396795\n",
    "# # psi0 = tensor(basis(2,0), basis(2,0))\n",
    "# # obs = [0.5*(sz[0] + sz[1])]\n",
    "# # xrate = np.sqrt(0.001)\n",
    "# # zrate = np.sqrt(0.0)\n",
    "\n",
    "# #dephasing:\n",
    "# #print(np.sqrt(rate)/J)\n",
    "\n",
    "# noisy_ops = [sx[i]*np.sqrt(xrate) for i in range(2)]\n",
    "# Sz_noise = (sz[0] * sz[1])*zrate\n",
    "# #noisy_ops = []\n",
    "# noisy_ops.append(Sz_noise)\n",
    "\n",
    "\n",
    "# #HXX = HXX* Omega**2\n",
    "\n",
    "# def genH(theta_0, J, B):\n",
    "#     delta = thermal_rejection(theta_0,1)[0]\n",
    "#     factor = (1 - delta)**2\n",
    "\n",
    "#     HXX = J*factor*(sx[0]*sx[1]) \n",
    "#     #print(HXX)\n",
    "#     HB = B*(sz[0] + sz[1])\n",
    "#     #print(HB)\n",
    "\n",
    "#     return [HXX + HB]\n",
    "\n",
    "\n",
    "# #psi0 = tensor(basis(2,0), basis(2,0))\n",
    "# #plus = (basis(2,0) + basis(2,1)).unit()\n",
    "# #yplus = (basis(2,0) + 1j*basis(2,1)).unit()\n",
    "# #minus = \n",
    "# #psi0 = tensor(yplus, yplus)\n",
    "\n",
    "# #import Options from qutip:\n",
    "# from qutip.solver import Options\n",
    "# #increase nsteps\n",
    "# options = Options(nsteps=1e3)\n",
    "\n",
    "# def run(theta_0, J,B):\n",
    "#     H = genH(theta_0,J,B)\n",
    "#     results = mesolve(H, psi0,integration_times, noisy_ops, obs, options=options)#, ntraj=1)\n",
    "#     return results\n",
    "# shots = 100\n",
    "\n",
    "\n",
    "\n",
    "# #full_results = Parallel(n_jobs=6)(delayed(run)(theta_0, theta_dot,Omega) for i in range(shots))\n",
    "    \n",
    "\n",
    "# def gen_full_results(theta_0, J,B):\n",
    "#     #H = genH(theta_0, theta_dot)\n",
    "#     full_results = Parallel(n_jobs=6)(delayed(run)(theta_0, J,B) for _ in range(shots))\n",
    "#     averaged = np.zeros(len(integration_times))\n",
    "#     for item in full_results:\n",
    "#         #print(item.expect[0])\n",
    "#         averaged += item.expect[0]\n",
    "#     averaged = averaged/shots\n",
    "#     return averaged#[indices]\n"
   ]
  },
  {
   "cell_type": "code",
   "execution_count": 51,
   "metadata": {},
   "outputs": [],
   "source": [
    "from qutip import (about, basis, expect, mesolve, qeye, sigmax, sigmay, sigmaz, tensor, mcsolve, sesolve, mesolve)\n",
    "from util.basic_TFIM_funcs import get_s_lists\n",
    "from joblib import Parallel, delayed\n",
    "from util.samplers_util import thermal_rejection\n",
    "\n",
    "\n",
    "\n",
    "#Simulating the Jij XX oscillations with active heating + maybe dephasing noise\n",
    "\"\"\"How to deal with active heating of the chain?\n",
    "Option 1: increase the random theta linearly in time. Probably the best bet. \n",
    "Option 2: rescample ever few time steps with a higher temperature.\n",
    "\n",
    "I think option 1 is the best for now\n",
    "\"\"\"\n",
    "#Need to set Jij ~1000*2*pi, so Omega = np.sqrt(1000). This way the time scale is ms for a full Jij oscillation\n",
    "#Realistic:\n",
    "#theta_0  = 0.060577043438396795\n",
    "#theta_dot = 0.0502438865537055 * 1e3\n",
    "#print(theta_0)\n",
    "#print(theta_dot)\n",
    "#Not realistic:\n",
    "theta_0  = 0.055577043438396795\n",
    "#theta_0 = 0\n",
    "theta_dot = 0.02172438865537055 * 1e3\n",
    "#theta_0 = 0\n",
    "#theta_dot = 0\n",
    "sx, sy, sz = get_s_lists(2)\n",
    "\n",
    "t_list = np.linspace(0, 15, 200)# * 1e-3\n",
    "\n",
    "psi0 = tensor(basis(2,0), basis(2,1))\n",
    "#psi0 = tensor(basis(2,0), basis(2,1))\n",
    "#obs = [0.5*(sz[0] - sz[1])]\n",
    "#obs = [sx[0]]#*sx[1]*sx[2]*sx[3]]\n",
    "#xrate = np.sqrt(0.0)*J\n",
    "#zrate = np.sqrt(0.0)*J\n",
    "\n",
    "\n",
    "\n",
    "#Bz increasing:\n",
    "# theta_0  = 0.055577043438396795\n",
    "# psi0 = tensor(basis(2,0), basis(2,0))\n",
    "# obs = [0.5*(sz[0] - sz[1])]\n",
    "# xrate = np.sqrt(0.01)\n",
    "# zrate = np.sqrt(0.0)\n",
    "\n",
    "#dephasing:\n",
    "#print(np.sqrt(rate)/J)\n",
    "\n",
    "#noisy_ops = [sx[i]*xrate for i in range(4)]\n",
    "#Sz_noise = (sz[0] * sz[1]*sx[2]*sz[3])*zrate\n",
    "#noisy_ops = []\n",
    "#noisy_ops.append(Sz_noise)\n",
    "\n",
    "\n",
    "#HXX = HXX* Omega**2\n",
    "\n",
    "def J_func(J,i,j):\n",
    "    return J*np.exp(-1*abs(i-j)+1)\n",
    "\n",
    "def genH(theta_0, J, B):\n",
    "    delta = thermal_rejection(theta_0,1)[0]\n",
    "    factor = (1 - delta)**2\n",
    "    #HXX = sx[0]*0\n",
    "    #for i in range(2):\n",
    "    #    for j in range(i+1,2):\n",
    "    #        HXX += J_func(J,i,j)*factor*(sx[i]*sx[j])\n",
    "    HXX = sx[0]*sx[1]*factor\n",
    "    \n",
    "    #HXX = sum([ sum( [J(i,j)*factor*(sx[i]*sx[j]) of i in range(j+1,4)] for j in range(4)]))\n",
    "\n",
    "    #HXX = J*factor*(sx[0]*sx[1]) \n",
    "    #print(HXX)\n",
    "    HB = B*(sz[0] + sz[1])# + sz[2] + sz[3])\n",
    "    #print(HB)\n",
    "\n",
    "    return [HXX + HB]\n",
    "\n",
    "\n",
    "#psi0 = tensor(basis(2,0), basis(2,0))\n",
    "#yplus = (basis(2,0) + 1j*basis(2,1)).unit()\n",
    "#minus = \n",
    "#psi0 = tensor(yplus, yplus)\n",
    "\n",
    "#import Options from qutip:\n",
    "from qutip.solver import Options\n",
    "#increase nsteps\n",
    "options = Options(nsteps=1e3)\n",
    "\n",
    "def run(theta_0, J,B, obs = None, noise={}):\n",
    "    xrate = 0\n",
    "    zrate = 0\n",
    "    theta_0 = 0\n",
    "    try:\n",
    "        xrate = noise['x']\n",
    "    except:\n",
    "        pass\n",
    "    try:\n",
    "        zrate = noise['z']\n",
    "    except:\n",
    "        pass\n",
    "    try:\n",
    "        theta_0 = noise['theta']\n",
    "    except:\n",
    "        pass\n",
    "    #print(xrate)\n",
    "    #print(zrate)\n",
    "    #print(theta_0)\n",
    "    H = genH(theta_0,J,B)\n",
    "    noisy_ops = [sx[i]*xrate for i in range(2)]\n",
    "    Sz_noise = (sz[0] * sz[1])*zrate#*sx[2]*sz[3])*zrate\n",
    "    #noisy_ops = []\n",
    "    noisy_ops.append(Sz_noise)\n",
    "    \n",
    "    results = mesolve(H, psi0,t_list, noisy_ops, obs, options=options)#, ntraj=1)\n",
    "    return results\n",
    "shots = 100\n",
    "\n",
    "\n",
    "\n",
    "#full_results = Parallel(n_jobs=6)(delayed(run)(theta_0, theta_dot,Omega) for i in range(shots))\n",
    "    \n",
    "\n",
    "def gen_full_results(theta_0, J,B, obs=None, noise={}):\n",
    "    #H = genH(theta_0, theta_dot)\n",
    "    #run(theta_0, J,B)\n",
    "    print(noise)\n",
    "    full_results = Parallel(n_jobs=6)(delayed(run)(theta_0, J,B,obs = obs, noise=noise) for _ in range(shots))\n",
    "    averaged = np.zeros(len(t_list))\n",
    "    for item in full_results:\n",
    "        #print(item.expect[0])\n",
    "        averaged += sum(item.expect)\n",
    "    averaged = averaged/shots\n",
    "    return averaged#[indices]\n"
   ]
  },
  {
   "cell_type": "code",
   "execution_count": 68,
   "metadata": {},
   "outputs": [
    {
     "name": "stdout",
     "output_type": "stream",
     "text": [
      "{'x': 0.047686023675821275, 'z': 0, 'theta': 0.03}\n",
      "{'x': 0.047686023675821275, 'z': 0, 'theta': 0.03}\n"
     ]
    }
   ],
   "source": [
    "J = 0.48*np.pi\n",
    "B = 2*J\n",
    "leakage_obs = [sz[0]*sz[1]]#\n",
    "oscillation_obs = [sz[0], -1*sz[1]]\n",
    "\n",
    "noise_dict = {'x':np.sqrt(0.001)*J, 'z':0, 'theta':0.03}\n",
    "#print time vs. expectation value\n",
    "results_Jij_oscillation = gen_full_results(theta_0, J, B, obs=oscillation_obs, noise=noise_dict)#, noise={'x':xrate, 'z':zrate, 'theta':theta_0})\n",
    "results_Jij_leakage = gen_full_results(theta_0, J, B, obs=leakage_obs, noise=noise_dict)#, noise={'x':xrate, 'z':zrate, 'theta':theta_0})\n",
    "\n"
   ]
  },
  {
   "cell_type": "code",
   "execution_count": 69,
   "metadata": {},
   "outputs": [],
   "source": [
    "#Get the positions of the first and second peaks:\n",
    "#first peak:\n",
    "#max_index = np.argmax(np.abs(full_results[30:]))+30\n",
    "\n",
    "#second peak:\n",
    "#second_max_index = np.argmax(np.abs(full_results[max_index+30:])) + max_index+30\n",
    "#third_max_index = np.argmax(np.abs(full_results[second_max_index+30:])) + second_max_index+30"
   ]
  },
  {
   "cell_type": "code",
   "execution_count": 70,
   "metadata": {},
   "outputs": [
    {
     "data": {
      "text/plain": [
       "[<matplotlib.lines.Line2D at 0x30f931180>]"
      ]
     },
     "execution_count": 70,
     "metadata": {},
     "output_type": "execute_result"
    },
    {
     "data": {
      "image/png": "[encoded data removed]",
      "text/plain": [
       "<Figure size 640x480 with 1 Axes>"
      ]
     },
     "metadata": {},
     "output_type": "display_data"
    }
   ],
   "source": [
    "plt.plot(t_list, results_Jij_oscillation/2)\n",
    "plt.plot(t_list, 1-(results_Jij_leakage + 1))\n",
    "#plt.hlines(full_results[max_index], 0, 10, color='r')\n",
    "#plt.hlines(full_results[second_max_index], 0, 10, color='r')\n",
    "#plt.hlines(full_results[third_max_index], 0, 10, color='r')"
   ]
  },
  {
   "cell_type": "code",
   "execution_count": 71,
   "metadata": {},
   "outputs": [
    {
     "data": {
      "text/plain": [
       "[<matplotlib.lines.Line2D at 0x30f975a50>]"
      ]
     },
     "execution_count": 71,
     "metadata": {},
     "output_type": "execute_result"
    },
    {
     "data": {
      "image/png": "[encoded data removed]",
      "text/plain": [
       "<Figure size 640x480 with 1 Axes>"
      ]
     },
     "metadata": {},
     "output_type": "display_data"
    }
   ],
   "source": [
    "plt.plot(t_list, (results_Jij_leakage + 1))\n"
   ]
  },
  {
   "cell_type": "code",
   "execution_count": null,
   "metadata": {},
   "outputs": [],
   "source": []
  },
  {
   "cell_type": "code",
   "execution_count": null,
   "metadata": {},
   "outputs": [],
   "source": []
  },
  {
   "cell_type": "code",
   "execution_count": null,
   "metadata": {},
   "outputs": [],
   "source": []
  }
 ],
 "metadata": {
  "kernelspec": {
   "display_name": "base",
   "language": "python",
   "name": "python3"
  },
  "language_info": {
   "codemirror_mode": {
    "name": "ipython",
    "version": 3
   },
   "file_extension": ".py",
   "mimetype": "text/x-python",
   "name": "python",
   "nbconvert_exporter": "python",
   "pygments_lexer": "ipython3",
   "version": "3.10.9"
  }
 },
 "nbformat": 4,
 "nbformat_minor": 2
}
