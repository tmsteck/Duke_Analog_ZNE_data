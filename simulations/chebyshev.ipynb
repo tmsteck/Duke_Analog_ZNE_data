{
 "cells": [
  {
   "cell_type": "markdown",
   "metadata": {},
   "source": [
    "$$\n",
    "x_k=\\frac{(a+b)}{2}+\\frac{(b-a)}{2} \\cos \\left(\\frac{2 k+1}{2 n} \\pi\\right)\n",
    "$$\n"
   ]
  },
  {
   "cell_type": "code",
   "execution_count": 12,
   "metadata": {},
   "outputs": [
    {
     "name": "stdout",
     "output_type": "stream",
     "text": [
      "[1.0, 1.0810140527710055, 1.3174929343376374, 1.6902785321094298, 2.1691699739962274, 2.71537032345343]\n"
     ]
    }
   ],
   "source": [
    "import numpy as np\n",
    "\n",
    "#number of nodes:\n",
    "node_count = 6\n",
    "a = 1\n",
    "b = 2.5\n",
    "def getChebyshevNodes(a,b,n):\n",
    "    b=2*b\n",
    "    return [(a + b)/2 + (b-a)/2*np.cos((k/((2*n)-1))*np.pi) for k in range(2*n)][n:][::-1]\n",
    "print(getChebyshevNodes(a,b,node_count))\n"
   ]
  },
  {
   "cell_type": "code",
   "execution_count": null,
   "metadata": {},
   "outputs": [],
   "source": []
  }
 ],
 "metadata": {
  "kernelspec": {
   "display_name": "base",
   "language": "python",
   "name": "python3"
  },
  "language_info": {
   "codemirror_mode": {
    "name": "ipython",
    "version": 3
   },
   "file_extension": ".py",
   "mimetype": "text/x-python",
   "name": "python",
   "nbconvert_exporter": "python",
   "pygments_lexer": "ipython3",
   "version": "3.10.9"
  }
 },
 "nbformat": 4,
 "nbformat_minor": 2
}
