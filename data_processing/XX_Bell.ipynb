{
 "cells": [
  {
   "cell_type": "code",
   "execution_count": 1,
   "metadata": {},
   "outputs": [
    {
     "name": "stderr",
     "output_type": "stream",
     "text": [
      "OMP: Info #276: omp_set_nested routine deprecated, please use omp_set_max_active_levels instead.\n"
     ]
    }
   ],
   "source": [
    "\n",
    "# Requirements: Matplotlib, Numpy, functions_util.py, index.py#, fitting_functions_ZNE.py, h5py\n",
    "\n",
    "import os\n",
    "\n",
    "#Move the directory back to Duke_Data\n",
    "#Check if the current directory is Duke_Data\n",
    "if os.getcwd().split('/')[-1] != 'DUKE_ANALOG_ZNE_DATA':\n",
    "    #os.chdir('Duke_Data')\n",
    "    os.chdir('../')\n",
    "    #print(os.getcwd().split('/')[-1])\n",
    "    #pass\n",
    "else:\n",
    "    pass\n",
    "#print(os.getcwd())\n",
    "from scripts.index import print_index, get_experiment, index_folder\n",
    "from functions_util import cetina_thermal_exp, cetina_envelope_exp\n",
    "from scipy.optimize import curve_fit\n",
    "import matplotlib.pyplot as plt\n",
    "from matplotlib.colors import LinearSegmentedColormap\n",
    "import matplotlib.cm as cm\n",
    "import numpy as np\n",
    "import h5py\n",
    "from fitting_functions_ZNE import linear_ZNE, third_no_first_ZNE\n",
    "\n",
    "\n",
    "def fit(function, x_axis, y_axis, return_cov=False, p0=[.05,2000000], weights=None):\n",
    "    # Fit the data to the function\n",
    "    popt, pcov = curve_fit(function, x_axis, y_axis, p0=p0, sigma=weights, absolute_sigma=True, maxfev=10000)\n",
    "    \n",
    "    if return_cov:\n",
    "        return popt, pcov\n",
    "    return popt"
   ]
  },
  {
   "cell_type": "code",
   "execution_count": 2,
   "metadata": {},
   "outputs": [],
   "source": [
    "# import all the useful lib in python\n",
    "from matplotlib import artist as art\n",
    "%matplotlib inline\n",
    "import scipy as sp\n",
    "# import pandas as pd\n",
    "import pathlib\n",
    "import os\n",
    "import datetime as dt\n",
    "import glob\n",
    "from IPython.display import clear_output\n",
    "from numpy.fft import fft, ifft\n",
    "\n",
    "from h5analysis import *\n",
    "from qsim_functions import*\n"
   ]
  },
  {
   "cell_type": "code",
   "execution_count": 5,
   "metadata": {},
   "outputs": [],
   "source": [
    "\n",
    "#pairs = [(11,12), (12,13),(13,14)]\n",
    "#bases = ['x', 'y', 'z']\n",
    "#pairs_names = [265, 259, 266]\n",
    "# basis_names = [268, 271, 269]\n",
    "# foldername = 'Population_4_tw0'\n",
    "# pairs_names = [str(name) for name in pairs_names]\n",
    "# qubits = [11,12,13,14]\n",
    "# shots = 150\n",
    "\n",
    "\n",
    "# foldername = 'XX_Bell_population'\n",
    "# bases = ['pi/2']\n",
    "# qubits = [12,13]\n",
    "# basis_names = [386]#[368, 369, 370, 371] \n",
    "# shots = 2000\n",
    "time_steps = 1\n",
    "\n",
    "shots = 2000\n",
    "basis_names = [431]\n",
    "bases = ['z']\n",
    "qubits = [12,13]\n",
    "foldername = 'TFIM_pop_rotated'\n",
    "\n",
    "\n",
    "basis_names = [str(name) for name in basis_names]\n",
    "for name_index in range(len(basis_names)):\n",
    "    name = basis_names[name_index]\n",
    "    if '000563' in basis_names:\n",
    "        pass\n",
    "    else:\n",
    "        name = '000563' + name\n",
    "        basis_names[name_index] = name\n",
    "full_data_folder_path = './data/' + foldername + '/'\n"
   ]
  },
  {
   "cell_type": "code",
   "execution_count": 6,
   "metadata": {},
   "outputs": [
    {
     "name": "stdout",
     "output_type": "stream",
     "text": [
      "/Users/thomassteckmann/Duke_Analog_ZNE_data\n",
      "(23, 2000, 1)\n"
     ]
    }
   ],
   "source": [
    "measurement_data = np.zeros((time_steps, len(basis_names)), dtype=dict)\n",
    "#flopping_matrix = np.zeros((30, len(pairs_names)))\n",
    "#flopping_std_matrix = np.zeros((30, len(pairs_names)))\n",
    "#times = None\n",
    "times_start = None\n",
    "times_end = None\n",
    "all_good_strings = ['00', '11']#, '0001', '0010', '0100', '1000', '1110', '1101', '1011', '0111']\n",
    "expectations_matrix = np.zeros((time_steps,len(basis_names)))\n",
    "qubit_0_magnetization = np.zeros((time_steps,len(basis_names)))\n",
    "leakage_factor = np.zeros((time_steps,len(basis_names)))\n",
    "\n",
    "print(os.getcwd())\n",
    "for file_id_index in range(len(basis_names)):\n",
    "    \n",
    "    file_id = basis_names[file_id_index]\n",
    "    axis = bases[file_id_index]\n",
    "    #pair = names[0]\n",
    "    file = h5py.File(full_data_folder_path + file_id + '-RFSoCSequence.h5', 'r')\n",
    "    archive = file['archive']\n",
    "    dataset = file['datasets']\n",
    "    x_vals = dataset['data.rfsoc_pulse_sequence.x_values']\n",
    "    times = np.array(x_vals)\n",
    "    if file_id_index == 0:\n",
    "        times_start = times\n",
    "    if file_id_index == 3:\n",
    "        times_end = times\n",
    "    #print(times)\n",
    "    raw_counts = dataset['data.rfsoc_pulse_sequence.raw_counts']\n",
    "    counts = np.asarray(raw_counts)\n",
    "    print(counts.shape)\n",
    "    measurements = np.zeros((len(qubits), shots, time_steps))\n",
    "    for qubit_index in range(len(qubits)):\n",
    "        qubit = qubits[qubit_index]\n",
    "        #qubit = pair[pair_index]\n",
    "        measurements[qubit_index,:,:] = 1 < counts[qubit,:,:]\n",
    "        #print(measurements)\n",
    "    #Convert the measurements to bitstrings. Convert to string, then append the like indices\n",
    "    counts_bitstrings = np.zeros((shots, time_steps), dtype='<U5')\n",
    "    for i in range(shots):\n",
    "        for j in range(time_steps):\n",
    "            bitstring = [str(int(measurements[qubit_index,i,j])) for qubit_index in range(len(qubits))]\n",
    "            bitstring = \"\".join(bitstring)\n",
    "            \n",
    "            #print(measurements[:,i,j])\n",
    "            #print(bitstring)\n",
    "            #str(int(measurements[0,i,j])) + str(int(measurements[1,i,j]))\n",
    "            #print(bitstring)\n",
    "            counts_bitstrings[i,j] = bitstring\n",
    "    counts_dicts = np.zeros(time_steps, dtype=dict)\n",
    "    for j in range(time_steps):\n",
    "        magnetization = 0\n",
    "        for shot_index in range(shots):\n",
    "            magnetization += measurements[0, shot_index, j]*2 - 1\n",
    "        qubit_0_magnetization[j,file_id_index] = magnetization/shots\n",
    "        temp_dict = {}#\n",
    "        for string in all_good_strings:\n",
    "            temp_dict[string] = 0\n",
    "        #{'0000':0, '1111':0}\n",
    "        for i in range(shots):\n",
    "            if counts_bitstrings[i,j] in temp_dict:\n",
    "                temp_dict[counts_bitstrings[i,j]] += 1/shots\n",
    "            else:\n",
    "                temp_dict[counts_bitstrings[i,j]] = 1/shots\n",
    "        counts_dicts[j] = temp_dict\n",
    "        expectation = 0\n",
    "        for key in temp_dict.keys():\n",
    "            if key not in all_good_strings:\n",
    "                leakage_factor[j,file_id_index] += temp_dict[key]/shots\n",
    "            #count the number of zeros. If it is even, add the value. If it is odd, subtract the value\n",
    "            num_zeros = key.count('0')\n",
    "            if num_zeros % 2 == 0:\n",
    "                expectation += temp_dict[key]\n",
    "            else:\n",
    "                expectation -= temp_dict[key]\n",
    "        expectations_matrix[j,file_id_index] = expectation\n",
    "    measurement_data[:,file_id_index] = counts_dicts\n",
    "    \n",
    "\n",
    "    \n",
    "#print(counts_array)"
   ]
  },
  {
   "cell_type": "code",
   "execution_count": null,
   "metadata": {},
   "outputs": [],
   "source": []
  },
  {
   "cell_type": "code",
   "execution_count": 7,
   "metadata": {},
   "outputs": [],
   "source": [
    "Xpops = [sum([measurement_data[i,0][string] for string in all_good_strings]) for i in range(time_steps)]\n"
   ]
  },
  {
   "cell_type": "code",
   "execution_count": 8,
   "metadata": {},
   "outputs": [
    {
     "name": "stdout",
     "output_type": "stream",
     "text": [
      "[0.6150000000000004]\n"
     ]
    }
   ],
   "source": [
    "print(Xpops)"
   ]
  }
 ],
 "metadata": {
  "kernelspec": {
   "display_name": "base",
   "language": "python",
   "name": "python3"
  },
  "language_info": {
   "codemirror_mode": {
    "name": "ipython",
    "version": 3
   },
   "file_extension": ".py",
   "mimetype": "text/x-python",
   "name": "python",
   "nbconvert_exporter": "python",
   "pygments_lexer": "ipython3",
   "version": "3.10.9"
  }
 },
 "nbformat": 4,
 "nbformat_minor": 2
}
