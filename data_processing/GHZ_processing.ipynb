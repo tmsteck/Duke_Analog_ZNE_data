{
 "cells": [
  {
   "cell_type": "code",
   "execution_count": null,
   "metadata": {},
   "outputs": [],
   "source": [
    "from qutip import (about, basis, expect, mesolve, qeye, sigmax, sigmay, sigmaz, tensor, mcsolve, sesolve, mesolve)\n",
    "from qutip.expect import expect\n",
    "import numpy as np\n",
    "from util.samplers_util import thermal_rejection\n",
    "import matplotlib.pyplot as plt\n",
    "from util.basic_TFIM_funcs import get_s_lists\n",
    "from joblib import Parallel, delayed\n"
   ]
  },
  {
   "cell_type": "code",
   "execution_count": null,
   "metadata": {},
   "outputs": [],
   "source": [
    "\n",
    "import os\n",
    "\n",
    "#Move the directory back to Duke_Data\n",
    "#Check if the current directory is Duke_Data\n",
    "if os.getcwd().split('/')[-1] != 'DUKE_ANALOG_ZNE_DATA':\n",
    "    #os.chdir('Duke_Data')\n",
    "    os.chdir('../')\n",
    "    #print(os.getcwd().split('/')[-1])\n",
    "    #pass\n",
    "else:\n",
    "    pass\n",
    "print(os.getcwd())\n",
    "from util.index import print_index, get_experiment, index_folder\n",
    "from util.functions_util import cetina_thermal_exp, cetina_envelope_exp\n",
    "from scipy.optimize import curve_fit\n",
    "import matplotlib.pyplot as plt\n",
    "from matplotlib.colors import LinearSegmentedColormap\n",
    "import matplotlib.cm as cm\n",
    "import numpy as np\n",
    "import h5py\n",
    "from util.fitting_functions_ZNE import linear_ZNE, third_no_first_ZNE\n"
   ]
  },
  {
   "cell_type": "code",
   "execution_count": null,
   "metadata": {},
   "outputs": [],
   "source": [
    "# import all the useful lib in python\n",
    "from matplotlib import artist as art\n",
    "%matplotlib inline\n",
    "import scipy as sp\n",
    "# import pandas as pd\n",
    "import pathlib\n",
    "import os\n",
    "import datetime as dt\n",
    "import glob\n",
    "from IPython.display import clear_output\n",
    "from numpy.fft import fft, ifft\n",
    "\n",
    "from h5analysis import *\n",
    "from util.qsim_functions import*\n"
   ]
  },
  {
   "cell_type": "code",
   "execution_count": null,
   "metadata": {},
   "outputs": [],
   "source": [
    "parity_data = []\n",
    "#How will this be returned? I'm guessing as a single file?\n",
    "wait_times = []\n",
    "polarization_data = []\n"
   ]
  }
 ],
 "metadata": {
  "language_info": {
   "name": "python"
  }
 },
 "nbformat": 4,
 "nbformat_minor": 2
}
