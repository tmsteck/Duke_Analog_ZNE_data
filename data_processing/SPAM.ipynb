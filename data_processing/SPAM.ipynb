{
 "cells": [
  {
   "cell_type": "code",
   "execution_count": 4,
   "metadata": {},
   "outputs": [
    {
     "name": "stderr",
     "output_type": "stream",
     "text": [
      "OMP: Info #276: omp_set_nested routine deprecated, please use omp_set_max_active_levels instead.\n"
     ]
    },
    {
     "name": "stdout",
     "output_type": "stream",
     "text": [
      "/Users/thomassteckmann/Duke_Analog_ZNE_data\n"
     ]
    }
   ],
   "source": [
    "#Add the folder to the path:\n",
    "import sys\n",
    "sys.path.append('../')\n",
    "from qutip import (about, basis, expect, mesolve, qeye, sigmax, sigmay, sigmaz, tensor, mcsolve, sesolve, mesolve)\n",
    "from qutip.expect import expect\n",
    "import numpy as np\n",
    "from util.samplers_util import thermal_rejection\n",
    "import matplotlib.pyplot as plt\n",
    "from util.basic_TFIM_funcs import get_s_lists\n",
    "from joblib import Parallel, delayed\n",
    "\n",
    "import os\n",
    "\n",
    "#Move the directory back to Duke_Data\n",
    "#Check if the current directory is Duke_Data\n",
    "if os.getcwd().split('/')[-1] != 'DUKE_ANALOG_ZNE_DATA':\n",
    "    #os.chdir('Duke_Data')\n",
    "    os.chdir('../')\n",
    "    #print(os.getcwd().split('/')[-1])\n",
    "    #pass\n",
    "else:\n",
    "    pass\n",
    "print(os.getcwd())\n",
    "from util.functions_util import cetina_thermal_exp, cetina_envelope_exp\n",
    "from scipy.optimize import curve_fit\n",
    "import matplotlib.pyplot as plt\n",
    "from matplotlib.colors import LinearSegmentedColormap\n",
    "import matplotlib.cm as cm\n",
    "import numpy as np\n",
    "import h5py\n",
    "from util.fitting_functions_ZNE import linear_ZNE, third_no_first_ZNE, quadratic_only_ZNE, exp_ZNE, log_fit_exp_ZNE, gaussian_ZNE\n",
    "# import all the useful lib in python\n",
    "from matplotlib import artist as art\n",
    "%matplotlib inline\n",
    "import scipy as sp\n",
    "# import pandas as pd\n",
    "import pathlib\n",
    "import os\n",
    "import datetime as dt\n",
    "import glob\n",
    "from IPython.display import clear_output\n",
    "from numpy.fft import fft, ifft\n",
    "\n",
    "from util.h5analysis import *\n",
    "from util.qsim_functions import*\n"
   ]
  },
  {
   "cell_type": "code",
   "execution_count": 5,
   "metadata": {},
   "outputs": [],
   "source": [
    "data_folder = 'Jij_SPAM_15'\n",
    "data_names = [231, 232, 233, 234, 236]\n",
    "info = ['0000', '1111', '0101', '0100', '1111']\n",
    "prefix = '000575'\n",
    "shots = 2000\n",
    "qubits = (2,3,4,5)\n",
    "time_steps = 1\n",
    "#J = 1.2*np.pi\n",
    "\n",
    "\n",
    "\n",
    "# data_folder = 'DD_pulses'\n",
    "# data_names = [844, 864, 872]\n",
    "# info =       [0, 2, 4]\n",
    "# prefix = '000572'\n",
    "# pair = (4,5)\n",
    "# shots = 200\n",
    "\n",
    "\n",
    "data_names = [str(name) for name in data_names]\n",
    "full_data_folder_path = './data/' + data_folder + '/'\n",
    "for name_index in range(len(data_names)):\n",
    "    name = data_names[name_index]\n",
    "    if prefix in name:\n",
    "        pass\n",
    "    else:\n",
    "        name = prefix + name\n",
    "        data_names[name_index] = name\n",
    "        "
   ]
  },
  {
   "cell_type": "code",
   "execution_count": 6,
   "metadata": {},
   "outputs": [
    {
     "name": "stdout",
     "output_type": "stream",
     "text": [
      "\n",
      "/Users/thomassteckmann/Duke_Analog_ZNE_data\n"
     ]
    }
   ],
   "source": [
    "print()\n",
    "COUNTS_THRESHOLD = 1\n",
    "\n",
    "print(os.getcwd())\n"
   ]
  },
  {
   "cell_type": "code",
   "execution_count": 7,
   "metadata": {},
   "outputs": [
    {
     "name": "stdout",
     "output_type": "stream",
     "text": [
      "[0. 0. 0. 0. 0. 0. 0. 0. 0. 0. 0. 0. 0. 0. 0.]\n",
      "[{'0000': 0.9884999999999465, '1000': 0.0035, '0100': 0.0035, '0001': 0.002, '0010': 0.0025}]\n",
      "0000\n",
      "[ 0.  0. 11. 15. 14. 11.  0.  0.  0.  0.  0.  0.  0.  0.  0.]\n",
      "[{'1111': 0.9649999999999491, '1110': 0.008500000000000004, '0111': 0.010500000000000006, '1101': 0.011000000000000006, '1011': 0.0035, '0101': 0.0005, '1100': 0.001}]\n",
      "1111\n",
      "[ 0.  0.  0. 10.  0. 14.  0.  0.  0.  0.  0.  0.  0.  0.  0.]\n",
      "[{'0101': 0.9729999999999482, '1101': 0.007500000000000003, '0100': 0.008500000000000004, '0111': 0.005000000000000001, '0001': 0.005000000000000001, '0000': 0.0005, '1111': 0.0005}]\n",
      "0101\n",
      "[ 0.  0.  0. 14.  0.  0.  0.  0.  0.  0.  0.  0.  0.  0.  0.]\n",
      "[{'0100': 0.9779999999999477, '0110': 0.0025, '0000': 0.005500000000000001, '1100': 0.010000000000000005, '0101': 0.0035, '0010': 0.0005}]\n",
      "0100\n",
      "[ 0.  0. 14. 11. 16. 19.  0.  0.  0.  0.  0.  0.  0.  0.  0.]\n",
      "[{'1111': 0.9579999999999499, '0111': 0.01450000000000001, '1110': 0.006500000000000002, '1101': 0.014000000000000009, '0101': 0.0005, '1010': 0.0005, '1011': 0.003, '0000': 0.0015, '0001': 0.0005, '1000': 0.0005, '1100': 0.0005}]\n",
      "1111\n"
     ]
    }
   ],
   "source": [
    "results = np.zeros((len(data_names), 30))\n",
    "leakage_matrix = np.zeros((30, len(data_names)))\n",
    "fidelity = np.zeros((30, len(data_names)))\n",
    "\n",
    "times = None\n",
    "\n",
    "for file_id_index in range(len(data_names)):\n",
    "    file_id = data_names[file_id_index]\n",
    "    #pair = names[0]\n",
    "    file = h5py.File(full_data_folder_path + file_id + '-RFSoCSequence.h5', 'r')\n",
    "    archive = file['archive']\n",
    "    dataset = file['datasets']\n",
    "    x_vals = dataset['data.rfsoc_pulse_sequence.x_values']\n",
    "    times = np.array(x_vals)\n",
    "    #print(times)\n",
    "    raw_counts = dataset['data.rfsoc_pulse_sequence.raw_counts']\n",
    "    counts = np.asarray(raw_counts)\n",
    "    #print(counts.shape)\n",
    "    print(counts[:,0,0])\n",
    "    measurements = np.zeros((len(qubits), shots, time_steps))\n",
    "    for qubit_index in range(len(qubits)):\n",
    "        qubit = qubits[qubit_index]\n",
    "        #qubit = pair[pair_index]\n",
    "        measurements[qubit_index,:,:] = 1 < counts[qubit,:,:]\n",
    "        #print(measurements)\n",
    "    #Convert the measurements to bitstrings. Convert to string, then append the like indices\n",
    "    counts_bitstrings = np.zeros((shots, time_steps), dtype='<U5')\n",
    "    for i in range(shots):\n",
    "        for j in range(time_steps):\n",
    "            bitstring = [str(int(measurements[qubit_index,i,j])) for qubit_index in range(len(qubits))]\n",
    "            bitstring = \"\".join(bitstring)\n",
    "            counts_bitstrings[i,j] = bitstring\n",
    "    counts_dicts = np.zeros(time_steps, dtype=dict)\n",
    "    for j in range(time_steps):\n",
    "        temp_dict = {}#\n",
    "        for i in range(shots):\n",
    "            if counts_bitstrings[i,j] in temp_dict:\n",
    "                temp_dict[counts_bitstrings[i,j]] += 1/shots\n",
    "            else:\n",
    "                temp_dict[counts_bitstrings[i,j]] = 1/shots\n",
    "        counts_dicts[j] = temp_dict\n",
    "    print(counts_dicts)\n",
    "    print(info[file_id_index])\n",
    "    fidelity[file_id_index] = counts_dicts[0][info[file_id_index]]\n"
   ]
  },
  {
   "cell_type": "code",
   "execution_count": 9,
   "metadata": {},
   "outputs": [
    {
     "name": "stdout",
     "output_type": "stream",
     "text": [
      "0.015140374331550794\n"
     ]
    },
    {
     "data": {
      "image/png": "[encoded data removed]",
      "text/plain": [
       "<Figure size 640x480 with 1 Axes>"
      ]
     },
     "metadata": {},
     "output_type": "display_data"
    }
   ],
   "source": [
    "#Plotting Ramp error:\n",
    "xy_data=[0.018802139037433156, 0.027807486631016037,\n",
    "0.018844919786096256, 0.025401069518716568,\n",
    "0.018823529411764704, 0.020320855614973238,\n",
    "0.018823529411764704, 0.010427807486630997,\n",
    "0.01946524064171123, 0.00775401069518715,\n",
    "0.01950802139037433, 0.012299465240641697,\n",
    "0.01950802139037433, 0.014839572192513348,\n",
    "0.01950802139037433, 0.017513368983957223,\n",
    "0.018074866310160427, 0.022326203208556133,\n",
    "0.01818181818181818, 0.01564171122994651,\n",
    "0.01818181818181818, 0.013101604278074871,\n",
    "0.017475935828877003, 0.017513368983957223,\n",
    "0.017497326203208555, 0.012700534759358284,\n",
    "0.017497326203208555, 0.008288770053475933,\n",
    "0.017497326203208555, 0.002807486631016043,\n",
    "0.01683422459893048, 0.010294117647058815,\n",
    "0.01681283422459893, 0.012967914438502662,\n",
    "0.016791443850267377, 0.012700534759358284,\n",
    "0.016791443850267377, 0.012700534759358284,\n",
    "0.018117647058823527, 0.025401069518716568]\n",
    "x_data = xy_data[0::2]\n",
    "y_data = xy_data[1::2]\n",
    "plt.plot(x_data, y_data, 'o')\n",
    "print(np.mean(y_data))\n",
    "\n"
   ]
  },
  {
   "cell_type": "code",
   "execution_count": null,
   "metadata": {},
   "outputs": [],
   "source": []
  }
 ],
 "metadata": {
  "kernelspec": {
   "display_name": "base",
   "language": "python",
   "name": "python3"
  },
  "language_info": {
   "codemirror_mode": {
    "name": "ipython",
    "version": 3
   },
   "file_extension": ".py",
   "mimetype": "text/x-python",
   "name": "python",
   "nbconvert_exporter": "python",
   "pygments_lexer": "ipython3",
   "version": "3.10.9"
  }
 },
 "nbformat": 4,
 "nbformat_minor": 2
}
